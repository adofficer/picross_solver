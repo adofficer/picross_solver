{
 "cells": [
  {
   "cell_type": "code",
   "execution_count": 1,
   "metadata": {},
   "outputs": [],
   "source": [
    "import pandas as pd\n",
    "import numpy as np\n",
    "\n",
    "debug = True"
   ]
  },
  {
   "cell_type": "code",
   "execution_count": 2,
   "metadata": {},
   "outputs": [],
   "source": [
    "class Clue(object):\n",
    "    \n",
    "    def __init__(self, val, ambig=None, loc= None):\n",
    "        \n",
    "        self.ambig = ambig\n",
    "        self.val = val\n",
    "        self.loc = loc\n",
    "    \n",
    "    \n",
    "    def update_loc(self, locstart, locend):\n",
    "        \n",
    "        self.loc = range(locstart, locend)\n",
    "\n",
    "        \n",
    "    def __str__(self):\n",
    "        return \",\".join(map(str, [self.val, self.ambig, self.loc]))\n",
    "    \n",
    "    def __repr__(self):\n",
    "        return \",\".join(map(str, [self.val, self.ambig, self.loc]))\n",
    "        \n",
    "\n",
    "    \n",
    "    # maybe not useful???\n",
    "    def __add__(self, other):\n",
    "        if type(other) is not Clue:\n",
    "            return self.val + other\n",
    "        return Clue(self.val + other.val,\n",
    "                    self.ambig + other.ambig)"
   ]
  },
  {
   "cell_type": "code",
   "execution_count": 34,
   "metadata": {},
   "outputs": [],
   "source": [
    "## clue is an object with value and ambiguity attributes\n",
    "## a block is a series\n",
    "# also want this to check for negative information\n",
    "# e.g. known solved squares\n",
    "# possible there is one solved block that makes the column/row perfect\n",
    "def check_perfection(clue_list, length):\n",
    "\n",
    "    x = len(clue_list) - 1 + sum([x.val for x in clue_list])\n",
    "    \n",
    "    if x == length or x < 1 : \n",
    "        return \"perfect\"\n",
    "    \n",
    "    else : \n",
    "        return \"no\"\n"
   ]
  },
  {
   "cell_type": "code",
   "execution_count": 4,
   "metadata": {
    "collapsed": true
   },
   "outputs": [],
   "source": [
    "def assign_rowcol_ambig(entry_len, entry):\n",
    "    # entry is a list of Clue objects\n",
    "    # updates the ambiguity value of a row/column\n",
    "    ambiguity = entry_len -(len(entry) - 1 + sum([x.val for x in entry]))\n",
    "    \n",
    "    if debug:\n",
    "        print \"entry: {}, ambiguity: {}\".format(entry, ambiguity)\n",
    "    \n",
    "    return ambiguity"
   ]
  },
  {
   "cell_type": "code",
   "execution_count": 90,
   "metadata": {
    "collapsed": true
   },
   "outputs": [],
   "source": [
    "def read_clue(fname):\n",
    "    \n",
    "    with open(fname) as f:\n",
    "\n",
    "        colsplit = [map(int, x.split(\",\"))\n",
    "                        for x in\n",
    "                        f.readline().strip().split(\" \")]\n",
    "        \n",
    "        rowsplit = [map(int, x.split(\",\"))\n",
    "                        for x in\n",
    "                        f.readline().strip().split(\" \")]\n",
    "    \n",
    "    colclue = pd.Series([[Clue(val = y) for y in x] for x in colsplit])\n",
    "    rowclue = pd.Series([[Clue(val = y) for y in x] for x in rowsplit])\n",
    "\n",
    "    t = np.zeros(shape = (len(colsplit), len(rowsplit)))\n",
    "    solv_mat = pd.DataFrame(np.full_like(t,\n",
    "                                         fill_value = np.nan))\n",
    "\n",
    "    rowlen = pd.Series([len(rowsplit) for x in rowsplit])\n",
    "    collen = pd.Series([len(colsplit) for x in colsplit])\n",
    "    \n",
    "    rowambig = pd.Series([assign_rowcol_ambig(rowlen[0],entry)\n",
    "                          for entry in rowclue])\n",
    "    colambig = pd.Series([assign_rowcol_ambig(collen[0], entry)\n",
    "                          for entry in colclue])\n",
    "    \n",
    "\n",
    "    rowprior = pd.Series([False for i in rowsplit])\n",
    "    colprior = pd.Series([False for i in colsplit])\n",
    "    \n",
    "    rowsolved = pd.Series([False for i in rowsplit])\n",
    "    colsolved = pd.Series([False for i in colsplit])\n",
    "    \n",
    "    col_info = pd.concat([colclue, colambig, collen, colprior, rowsolved],\n",
    "                         axis = 1)\n",
    "    row_info = pd.concat([rowclue, rowambig, rowlen, rowprior, rowsolved],\n",
    "                         axis = 1)\n",
    "    \n",
    "    col_info.columns = [\"cluelist\", \"ambig\", \"len\", \"priority\", \"issolved\"]\n",
    "    row_info.columns = [\"cluelist\", \"ambig\", \"len\", \"priority\", \"issolved\"]\n",
    "\n",
    "    \n",
    "    # sol_mat is empty\n",
    "    # row_info is dim (4 rows, N cols), same with col_info\n",
    "    return (solv_mat, row_info, col_info)"
   ]
  },
  {
   "cell_type": "code",
   "execution_count": null,
   "metadata": {
    "scrolled": false
   },
   "outputs": [],
   "source": []
  },
  {
   "cell_type": "code",
   "execution_count": null,
   "metadata": {},
   "outputs": [],
   "source": []
  },
  {
   "cell_type": "code",
   "execution_count": null,
   "metadata": {},
   "outputs": [],
   "source": []
  },
  {
   "cell_type": "code",
   "execution_count": 101,
   "metadata": {},
   "outputs": [
    {
     "data": {
      "text/plain": [
       "False"
      ]
     },
     "execution_count": 101,
     "metadata": {},
     "output_type": "execute_result"
    }
   ],
   "source": [
    "bool(0)"
   ]
  },
  {
   "cell_type": "code",
   "execution_count": 109,
   "metadata": {},
   "outputs": [],
   "source": [
    "def solve(clue, solve_row):\n",
    "    # JFC dat list comprehension do\n",
    "    ans = \"0\".join([\"\".join([\"1\" for i in range(x.val)]) for x in clue.cluelist])\n",
    "    return pd.Series([bool(int(i)) for i in ans])"
   ]
  },
  {
   "cell_type": "code",
   "execution_count": 110,
   "metadata": {},
   "outputs": [
    {
     "name": "stdout",
     "output_type": "stream",
     "text": [
      "entry: [1,None,None], ambiguity: 4\n",
      "entry: [2,None,None, 1,None,None], ambiguity: 1\n",
      "entry: [2,None,None, 2,None,None], ambiguity: 0\n",
      "entry: [3,None,None], ambiguity: 2\n",
      "entry: [1,None,None, 1,None,None], ambiguity: 2\n",
      "entry: [1,None,None, 1,None,None], ambiguity: 2\n",
      "entry: [2,None,None], ambiguity: 3\n",
      "entry: [1,None,None, 1,None,None], ambiguity: 2\n",
      "entry: [2,None,None], ambiguity: 3\n",
      "entry: [5,None,None], ambiguity: 0\n",
      "0     True\n",
      "1     True\n",
      "2    False\n",
      "3     True\n",
      "4     True\n",
      "dtype: bool\n",
      "0    True\n",
      "1    True\n",
      "2    True\n",
      "3    True\n",
      "4    True\n",
      "dtype: bool\n"
     ]
    }
   ],
   "source": [
    "solv_mat, row_info, col_info = read_clue(\"5x5_examp.txt\")\n",
    "\n",
    "for i, clue in row_info.iterrows():\n",
    "    \n",
    "    if clue.ambig == 0: \n",
    "        \n",
    "        if debug:\n",
    "            print solve(clue, solv_mat.iloc[i, :])\n",
    "        solv_mat.iloc[i, :] = solve(clue, solv_mat.iloc[i, :])\n",
    "\n",
    "for i, clue in col_info.iterrows():\n",
    "    \n",
    "    if clue.ambig == 0: \n",
    "        \n",
    "        if debug:\n",
    "            print solve(clue, solv_mat.iloc[:, i])\n",
    "        solv_mat.iloc[:, i] = solve(clue, solv_mat.iloc[:, i])\n",
    "\n",
    "# now we need to update ambiguity"
   ]
  },
  {
   "cell_type": "code",
   "execution_count": 111,
   "metadata": {},
   "outputs": [
    {
     "data": {
      "text/html": [
       "<div>\n",
       "<style>\n",
       "    .dataframe thead tr:only-child th {\n",
       "        text-align: right;\n",
       "    }\n",
       "\n",
       "    .dataframe thead th {\n",
       "        text-align: left;\n",
       "    }\n",
       "\n",
       "    .dataframe tbody tr th {\n",
       "        vertical-align: top;\n",
       "    }\n",
       "</style>\n",
       "<table border=\"1\" class=\"dataframe\">\n",
       "  <thead>\n",
       "    <tr style=\"text-align: right;\">\n",
       "      <th></th>\n",
       "      <th>0</th>\n",
       "      <th>1</th>\n",
       "      <th>2</th>\n",
       "      <th>3</th>\n",
       "      <th>4</th>\n",
       "    </tr>\n",
       "  </thead>\n",
       "  <tbody>\n",
       "    <tr>\n",
       "      <th>0</th>\n",
       "      <td>NaN</td>\n",
       "      <td>NaN</td>\n",
       "      <td>NaN</td>\n",
       "      <td>NaN</td>\n",
       "      <td>True</td>\n",
       "    </tr>\n",
       "    <tr>\n",
       "      <th>1</th>\n",
       "      <td>NaN</td>\n",
       "      <td>NaN</td>\n",
       "      <td>NaN</td>\n",
       "      <td>NaN</td>\n",
       "      <td>True</td>\n",
       "    </tr>\n",
       "    <tr>\n",
       "      <th>2</th>\n",
       "      <td>True</td>\n",
       "      <td>True</td>\n",
       "      <td>False</td>\n",
       "      <td>True</td>\n",
       "      <td>True</td>\n",
       "    </tr>\n",
       "    <tr>\n",
       "      <th>3</th>\n",
       "      <td>NaN</td>\n",
       "      <td>NaN</td>\n",
       "      <td>NaN</td>\n",
       "      <td>NaN</td>\n",
       "      <td>True</td>\n",
       "    </tr>\n",
       "    <tr>\n",
       "      <th>4</th>\n",
       "      <td>NaN</td>\n",
       "      <td>NaN</td>\n",
       "      <td>NaN</td>\n",
       "      <td>NaN</td>\n",
       "      <td>True</td>\n",
       "    </tr>\n",
       "  </tbody>\n",
       "</table>\n",
       "</div>"
      ],
      "text/plain": [
       "      0     1      2     3     4\n",
       "0   NaN   NaN    NaN   NaN  True\n",
       "1   NaN   NaN    NaN   NaN  True\n",
       "2  True  True  False  True  True\n",
       "3   NaN   NaN    NaN   NaN  True\n",
       "4   NaN   NaN    NaN   NaN  True"
      ]
     },
     "execution_count": 111,
     "metadata": {},
     "output_type": "execute_result"
    }
   ],
   "source": [
    "solv_mat"
   ]
  },
  {
   "cell_type": "markdown",
   "metadata": {},
   "source": [
    "### Next Steps\n",
    "\n",
    "* Update ambiguity based on values in the solv_mat\n",
    "* Implement is_solved to determine when we are done\n",
    "* Update priority based on solv_mat additions\n",
    "* Update is_solved flag based on solv_mat additions\n",
    "\n",
    "* adding logic for how to solve\n",
    "* special cases like solving edges\n",
    "* using non-zero ambiguity to fill in squares"
   ]
  },
  {
   "cell_type": "code",
   "execution_count": null,
   "metadata": {
    "collapsed": true
   },
   "outputs": [],
   "source": []
  }
 ],
 "metadata": {
  "kernelspec": {
   "display_name": "Python 2",
   "language": "python",
   "name": "python2"
  },
  "language_info": {
   "codemirror_mode": {
    "name": "ipython",
    "version": 2
   },
   "file_extension": ".py",
   "mimetype": "text/x-python",
   "name": "python",
   "nbconvert_exporter": "python",
   "pygments_lexer": "ipython2",
   "version": "2.7.13"
  }
 },
 "nbformat": 4,
 "nbformat_minor": 2
}
